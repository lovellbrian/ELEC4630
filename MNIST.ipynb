{
  "nbformat": 4,
  "nbformat_minor": 0,
  "metadata": {
    "colab": {
      "name": "MNIST.ipynb",
      "provenance": [],
      "authorship_tag": "ABX9TyN4L/Ks/JKm6DDVyZZphSvm",
      "include_colab_link": true
    },
    "kernelspec": {
      "name": "python3",
      "display_name": "Python 3"
    },
    "language_info": {
      "name": "python"
    }
  },
  "cells": [
    {
      "cell_type": "markdown",
      "metadata": {
        "id": "view-in-github",
        "colab_type": "text"
      },
      "source": [
        "<a href=\"https://colab.research.google.com/github/lovellbrian/ELEC4630/blob/master/MNIST.ipynb\" target=\"_parent\"><img src=\"https://colab.research.google.com/assets/colab-badge.svg\" alt=\"Open In Colab\"/></a>"
      ]
    },
    {
      "cell_type": "markdown",
      "metadata": {
        "id": "D79KUHh73xoG"
      },
      "source": [
        "Chollet p27\n",
        "\n",
        "You don’t need to try to reproduce this example on your machine just now. If you wish\n",
        "to, you’ll first need to set up Keras, which is covered in section 3.3.\n",
        "The MNIST dataset comes preloaded in Keras, in the form of a set of four Numpy\n",
        "arrays."
      ]
    },
    {
      "cell_type": "code",
      "metadata": {
        "id": "XsHxLoOW39E1"
      },
      "source": [
        "from keras.datasets import mnist\n",
        "(train_images, train_labels), (test_images, test_labels) = mnist.load_data()"
      ],
      "execution_count": 28,
      "outputs": []
    },
    {
      "cell_type": "markdown",
      "metadata": {
        "id": "pmRwQQg04Bzc"
      },
      "source": [
        "train_images and train_labels form the training set, the data that the model will\n",
        "learn from. The model will then be tested on the test set, test_images and test_labels.\n",
        "\n",
        "The images are encoded as Numpy arrays, and the labels are an array of digits, ranging\n",
        "from 0 to 9. The images and labels have a one-to-one correspondence.\n",
        "Let’s look at the training data:"
      ]
    },
    {
      "cell_type": "code",
      "metadata": {
        "colab": {
          "base_uri": "https://localhost:8080/"
        },
        "id": "yhpA7DqT4K-u",
        "outputId": "c80570c9-cf77-46e6-afbc-2e94b6e6daeb"
      },
      "source": [
        "train_images.shape"
      ],
      "execution_count": 29,
      "outputs": [
        {
          "output_type": "execute_result",
          "data": {
            "text/plain": [
              "(60000, 28, 28)"
            ]
          },
          "metadata": {
            "tags": []
          },
          "execution_count": 29
        }
      ]
    },
    {
      "cell_type": "markdown",
      "metadata": {
        "id": "EknerrOw4SR-"
      },
      "source": [
        "And here’s the test data:"
      ]
    },
    {
      "cell_type": "code",
      "metadata": {
        "colab": {
          "base_uri": "https://localhost:8080/"
        },
        "id": "YObuw97c4U7e",
        "outputId": "6c15d689-d2bd-4ab9-96ca-f9a0d7bd9f81"
      },
      "source": [
        "test_images.shape"
      ],
      "execution_count": 30,
      "outputs": [
        {
          "output_type": "execute_result",
          "data": {
            "text/plain": [
              "(10000, 28, 28)"
            ]
          },
          "metadata": {
            "tags": []
          },
          "execution_count": 30
        }
      ]
    },
    {
      "cell_type": "code",
      "metadata": {
        "colab": {
          "base_uri": "https://localhost:8080/"
        },
        "id": "f_hIbvd84ZdO",
        "outputId": "fc966b4e-0f13-431a-d858-cfc5cfc1ee68"
      },
      "source": [
        "len(test_labels)"
      ],
      "execution_count": 31,
      "outputs": [
        {
          "output_type": "execute_result",
          "data": {
            "text/plain": [
              "10000"
            ]
          },
          "metadata": {
            "tags": []
          },
          "execution_count": 31
        }
      ]
    },
    {
      "cell_type": "code",
      "metadata": {
        "colab": {
          "base_uri": "https://localhost:8080/"
        },
        "id": "tyC6Z3Be4dkf",
        "outputId": "2daf3fe3-b315-43bf-800c-dbd2a9720d3f"
      },
      "source": [
        "test_labels"
      ],
      "execution_count": 32,
      "outputs": [
        {
          "output_type": "execute_result",
          "data": {
            "text/plain": [
              "array([7, 2, 1, ..., 4, 5, 6], dtype=uint8)"
            ]
          },
          "metadata": {
            "tags": []
          },
          "execution_count": 32
        }
      ]
    },
    {
      "cell_type": "markdown",
      "metadata": {
        "id": "YhylV4Ir5FFS"
      },
      "source": [
        "The workflow will be as follows: First, we’ll feed the neural network the training data,\n",
        "train_images and train_labels. The network will then learn to associate images and\n",
        "labels. Finally, we’ll ask the network to produce predictions for test_images, and we’ll\n",
        "verify whether these predictions match the labels from test_labels.\n",
        "Let’s build the network—again, remember that you aren’t expected to understand\n",
        "everything about this example yet."
      ]
    },
    {
      "cell_type": "code",
      "metadata": {
        "id": "dX1Mw4z15GlM"
      },
      "source": [
        "from keras import models\n",
        "from keras import layers\n",
        "network = models.Sequential()\n",
        "network.add(layers.Dense(512, activation='relu', input_shape=(28 * 28,)))\n",
        "network.add(layers.Dense(10, activation='softmax'))"
      ],
      "execution_count": 33,
      "outputs": []
    },
    {
      "cell_type": "markdown",
      "metadata": {
        "id": "vKTGGY_-5PIX"
      },
      "source": [
        "To make the network ready for training, we need to pick three more things, as part\n",
        "of the compilation step:\n",
        "* A loss function—How the network will be able to measure its performance on\n",
        "the training data, and thus how it will be able to steer itself in the right direction.\n",
        "* An optimizer—The mechanism through which the network will update itself\n",
        "based on the data it sees and its loss function.\n",
        "* Metrics to monitor during training and testing—Here, we’ll only care about accuracy\n",
        "(the fraction of the images that were correctly classified).\n",
        "The exact purpose of the loss function and the optimizer will be made clear throughout\n",
        "the next two chapters."
      ]
    },
    {
      "cell_type": "code",
      "metadata": {
        "id": "N93QjV305QKJ"
      },
      "source": [
        "network.compile(optimizer='rmsprop',\n",
        "loss='categorical_crossentropy',\n",
        "metrics=['accuracy'])"
      ],
      "execution_count": 34,
      "outputs": []
    },
    {
      "cell_type": "markdown",
      "metadata": {
        "id": "REvif6Hq5WOS"
      },
      "source": [
        "Before training, we’ll preprocess the data by reshaping it into the shape the network\n",
        "expects and scaling it so that all values are in the [0, 1] interval. Previously, our training\n",
        "images, for instance, were stored in an array of shape (60000, 28, 28) of type\n",
        "uint8 with values in the [0, 255] interval. We transform it into a float32 array of\n",
        "shape (60000, 28 * 28) with values between 0 and 1."
      ]
    },
    {
      "cell_type": "code",
      "metadata": {
        "id": "gKHXA-Us5XGq"
      },
      "source": [
        "train_images = train_images.reshape((60000, 28 * 28))\n",
        "train_images = train_images.astype('float32') / 255\n",
        "test_images = test_images.reshape((10000, 28 * 28))\n",
        "test_images = test_images.astype('float32') / 255"
      ],
      "execution_count": 35,
      "outputs": []
    },
    {
      "cell_type": "markdown",
      "metadata": {
        "id": "EVhz9yBI5afS"
      },
      "source": [
        "We also need to categorically encode the labels, a step that’s explained in chapter 3."
      ]
    },
    {
      "cell_type": "code",
      "metadata": {
        "id": "AwVEO6cj5g9T"
      },
      "source": [
        "from tensorflow.keras.utils import to_categorical\n",
        "train_labels = to_categorical(train_labels)\n",
        "test_labels = to_categorical(test_labels)"
      ],
      "execution_count": 36,
      "outputs": []
    },
    {
      "cell_type": "markdown",
      "metadata": {
        "id": "GEAPUcyj5mRj"
      },
      "source": [
        "We’re now ready to train the network, which in Keras is done via a call to the network’s\n",
        "fit method—we fit the model to its training data:"
      ]
    },
    {
      "cell_type": "code",
      "metadata": {
        "colab": {
          "base_uri": "https://localhost:8080/"
        },
        "id": "LCm7aQ3I5p9c",
        "outputId": "05f66fa4-af5f-43dc-d8cc-9a9b4633431e"
      },
      "source": [
        "network.fit(train_images, train_labels, epochs=5, batch_size=128)"
      ],
      "execution_count": 37,
      "outputs": [
        {
          "output_type": "stream",
          "text": [
            "Epoch 1/5\n",
            "469/469 [==============================] - 8s 7ms/step - loss: 0.4272 - accuracy: 0.8772\n",
            "Epoch 2/5\n",
            "469/469 [==============================] - 3s 7ms/step - loss: 0.1073 - accuracy: 0.9692\n",
            "Epoch 3/5\n",
            "469/469 [==============================] - 3s 7ms/step - loss: 0.0686 - accuracy: 0.9799\n",
            "Epoch 4/5\n",
            "469/469 [==============================] - 3s 7ms/step - loss: 0.0455 - accuracy: 0.9863\n",
            "Epoch 5/5\n",
            "469/469 [==============================] - 3s 7ms/step - loss: 0.0333 - accuracy: 0.9905\n"
          ],
          "name": "stdout"
        },
        {
          "output_type": "execute_result",
          "data": {
            "text/plain": [
              "<keras.callbacks.History at 0x7f2a4ebf3ad0>"
            ]
          },
          "metadata": {
            "tags": []
          },
          "execution_count": 37
        }
      ]
    },
    {
      "cell_type": "markdown",
      "metadata": {
        "id": "g67WUBPF5xHt"
      },
      "source": [
        "Two quantities are displayed during training: the loss of the network over the training\n",
        "data, and the accuracy of the network over the training data.\n",
        "We quickly reach an accuracy of 0.989 (98.9%) on the training data. Now let’s\n",
        "check that the model performs well on the test set, too:"
      ]
    },
    {
      "cell_type": "code",
      "metadata": {
        "colab": {
          "base_uri": "https://localhost:8080/"
        },
        "id": "bQ7Gn8Y6518s",
        "outputId": "d45c4577-64ab-4892-d2a9-82ae1592784d"
      },
      "source": [
        "test_loss, test_acc = network.evaluate(test_images, test_labels)\n",
        "print('test_acc:', test_acc)"
      ],
      "execution_count": 39,
      "outputs": [
        {
          "output_type": "stream",
          "text": [
            "313/313 [==============================] - 1s 2ms/step - loss: 0.0674 - accuracy: 0.9784\n",
            "test_acc: 0.9783999919891357\n"
          ],
          "name": "stdout"
        }
      ]
    },
    {
      "cell_type": "markdown",
      "metadata": {
        "id": "MUEPMhgl6Ce_"
      },
      "source": [
        "The test-set accuracy turns out to be 97.8%—that’s quite a bit lower than the training\n",
        "set accuracy. This gap between training accuracy and test accuracy is an example of\n",
        "overfitting: the fact that machine-learning models tend to perform worse on new data\n",
        "than on their training data. Overfitting is a central topic in chapter 3.\n",
        "This concludes our first example—you just saw how you can build and train a neural\n",
        "network to classify handwritten digits in less than 20 lines of Python code. In the\n",
        "next chapter, I’ll go into detail about every moving piece we just previewed and clarify\n",
        "what’s going on behind the scenes. You’ll learn about tensors, the data-storing objects\n",
        "going into the network; tensor operations, which layers are made of; and gradient\n",
        "descent, which allows your network to learn from its training examples"
      ]
    },
    {
      "cell_type": "markdown",
      "metadata": {
        "id": "OxkQA-DP6DXG"
      },
      "source": [
        ""
      ]
    }
  ]
}